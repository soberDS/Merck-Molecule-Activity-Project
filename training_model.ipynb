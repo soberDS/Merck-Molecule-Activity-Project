{
 "cells": [
  {
   "cell_type": "code",
   "execution_count": 2,
   "metadata": {
    "ExecuteTime": {
     "end_time": "2018-01-14T16:32:18.481549Z",
     "start_time": "2018-01-14T16:32:17.850366Z"
    },
    "collapsed": true
   },
   "outputs": [],
   "source": [
    "import pandas as pd"
   ]
  },
  {
   "cell_type": "code",
   "execution_count": 2,
   "metadata": {
    "ExecuteTime": {
     "end_time": "2018-01-14T16:35:37.226541Z",
     "start_time": "2018-01-14T16:32:19.387371Z"
    },
    "collapsed": true
   },
   "outputs": [],
   "source": [
    "df_training_dict = {}\n",
    "for num in [number + 1 for number in range(15)]:\n",
    "    df_training_dict['df_training_{0}'.format(num)] = pd.read_csv('ACT{}_competition_training.csv'.format(num),\n",
    "                                                                 header=0)"
   ]
  },
  {
   "cell_type": "markdown",
   "metadata": {
    "heading_collapsed": true
   },
   "source": [
    "# Old code"
   ]
  },
  {
   "cell_type": "code",
   "execution_count": 2,
   "metadata": {
    "collapsed": true,
    "hidden": true
   },
   "outputs": [],
   "source": [
    "#df_training_1 = pd.read_csv('ACT1_competition_training.csv', header=0)"
   ]
  },
  {
   "cell_type": "code",
   "execution_count": 3,
   "metadata": {
    "collapsed": true,
    "hidden": true
   },
   "outputs": [],
   "source": [
    "#df_training_2 = pd.read_csv('ACT2_competition_training.csv', header=0)"
   ]
  },
  {
   "cell_type": "code",
   "execution_count": 4,
   "metadata": {
    "collapsed": true,
    "hidden": true
   },
   "outputs": [],
   "source": [
    "#df_training_3 = pd.read_csv('ACT3_competition_training.csv', header=0)"
   ]
  },
  {
   "cell_type": "code",
   "execution_count": 5,
   "metadata": {
    "collapsed": true,
    "hidden": true
   },
   "outputs": [],
   "source": [
    "#df_training_4 = pd.read_csv('ACT4_competition_training.csv', header=0)"
   ]
  },
  {
   "cell_type": "code",
   "execution_count": 6,
   "metadata": {
    "collapsed": true,
    "hidden": true
   },
   "outputs": [],
   "source": [
    "#df_training_5 = pd.read_csv('ACT5_competition_training.csv', header=0)"
   ]
  },
  {
   "cell_type": "code",
   "execution_count": 7,
   "metadata": {
    "collapsed": true,
    "hidden": true
   },
   "outputs": [],
   "source": [
    "#df_training_6 = pd.read_csv('ACT6_competition_training.csv', header=0)"
   ]
  },
  {
   "cell_type": "code",
   "execution_count": 8,
   "metadata": {
    "collapsed": true,
    "hidden": true
   },
   "outputs": [],
   "source": [
    "#df_training_7 = pd.read_csv('ACT7_competition_training.csv', header=0)"
   ]
  },
  {
   "cell_type": "code",
   "execution_count": 9,
   "metadata": {
    "collapsed": true,
    "hidden": true
   },
   "outputs": [],
   "source": [
    "#df_training_8 = pd.read_csv('ACT8_competition_training.csv', header=0)"
   ]
  },
  {
   "cell_type": "code",
   "execution_count": 10,
   "metadata": {
    "collapsed": true,
    "hidden": true
   },
   "outputs": [],
   "source": [
    "#df_training_9 = pd.read_csv('ACT9_competition_training.csv', header=0)"
   ]
  },
  {
   "cell_type": "code",
   "execution_count": 11,
   "metadata": {
    "collapsed": true,
    "hidden": true
   },
   "outputs": [],
   "source": [
    "#df_training_10 = pd.read_csv('ACT10_competition_training.csv', header=0)"
   ]
  },
  {
   "cell_type": "code",
   "execution_count": 12,
   "metadata": {
    "collapsed": true,
    "hidden": true
   },
   "outputs": [],
   "source": [
    "#df_training_11 = pd.read_csv('ACT11_competition_training.csv', header=0)"
   ]
  },
  {
   "cell_type": "code",
   "execution_count": 13,
   "metadata": {
    "collapsed": true,
    "hidden": true
   },
   "outputs": [],
   "source": [
    "#df_training_12 = pd.read_csv('ACT12_competition_training.csv', header=0)"
   ]
  },
  {
   "cell_type": "code",
   "execution_count": 14,
   "metadata": {
    "collapsed": true,
    "hidden": true
   },
   "outputs": [],
   "source": [
    "#df_training_13 = pd.read_csv('ACT13_competition_training.csv', header=0)"
   ]
  },
  {
   "cell_type": "code",
   "execution_count": 15,
   "metadata": {
    "collapsed": true,
    "hidden": true
   },
   "outputs": [],
   "source": [
    "#df_training_14 = pd.read_csv('ACT14_competition_training.csv', header=0)"
   ]
  },
  {
   "cell_type": "code",
   "execution_count": 16,
   "metadata": {
    "collapsed": true,
    "hidden": true
   },
   "outputs": [],
   "source": [
    "#df_training_15 = pd.read_csv('ACT15_competition_training.csv', header=0)"
   ]
  },
  {
   "cell_type": "markdown",
   "metadata": {},
   "source": [
    "# New code"
   ]
  },
  {
   "cell_type": "code",
   "execution_count": 8,
   "metadata": {
    "collapsed": true
   },
   "outputs": [],
   "source": [
    "for value in df_training_dict.values():\n",
    "    value['MOLECULE_ID'] = list(map(lambda x : str(x).split('_')[2], value['MOLECULE']))"
   ]
  },
  {
   "cell_type": "markdown",
   "metadata": {
    "heading_collapsed": true
   },
   "source": [
    "# Old code"
   ]
  },
  {
   "cell_type": "code",
   "execution_count": 17,
   "metadata": {
    "collapsed": true,
    "hidden": true
   },
   "outputs": [],
   "source": [
    "'''\n",
    "df_training_1['MOLECULE_ID'] = list(map(lambda x : str(x).split('_')[2], df_training_1['MOLECULE']))\n",
    "df_training_2['MOLECULE_ID'] = list(map(lambda x : str(x).split('_')[2], df_training_2['MOLECULE']))\n",
    "df_training_3['MOLECULE_ID'] = list(map(lambda x : str(x).split('_')[2], df_training_3['MOLECULE']))\n",
    "df_training_4['MOLECULE_ID'] = list(map(lambda x : str(x).split('_')[2], df_training_4['MOLECULE']))\n",
    "df_training_5['MOLECULE_ID'] = list(map(lambda x : str(x).split('_')[2], df_training_5['MOLECULE']))\n",
    "df_training_6['MOLECULE_ID'] = list(map(lambda x : str(x).split('_')[2], df_training_6['MOLECULE']))\n",
    "df_training_8['MOLECULE_ID'] = list(map(lambda x : str(x).split('_')[2], df_training_8['MOLECULE']))\n",
    "df_training_9['MOLECULE_ID'] = list(map(lambda x : str(x).split('_')[2], df_training_9['MOLECULE']))\n",
    "df_training_10['MOLECULE_ID'] = list(map(lambda x : str(x).split('_')[2], df_training_10['MOLECULE']))\n",
    "df_training_11['MOLECULE_ID'] = list(map(lambda x : str(x).split('_')[2], df_training_11['MOLECULE']))\n",
    "df_training_12['MOLECULE_ID'] = list(map(lambda x : str(x).split('_')[2], df_training_12['MOLECULE']))\n",
    "df_training_13['MOLECULE_ID'] = list(map(lambda x : str(x).split('_')[2], df_training_13['MOLECULE']))\n",
    "df_training_14['MOLECULE_ID'] = list(map(lambda x : str(x).split('_')[2], df_training_14['MOLECULE']))\n",
    "df_training_15['MOLECULE_ID'] = list(map(lambda x : str(x).split('_')[2], df_training_15['MOLECULE']))\n",
    "'''"
   ]
  },
  {
   "cell_type": "markdown",
   "metadata": {},
   "source": [
    "# New code"
   ]
  },
  {
   "cell_type": "code",
   "execution_count": 10,
   "metadata": {
    "collapsed": true
   },
   "outputs": [],
   "source": [
    "for value in df_training_dict.values():\n",
    "    value['Number_Nonzero_Descriptor'] = value.iloc[:, 2:-2].apply(lambda x: len(x[x != 0]), axis=1)"
   ]
  },
  {
   "cell_type": "code",
   "execution_count": 13,
   "metadata": {
    "collapsed": true
   },
   "outputs": [],
   "source": [
    "correlations_dict = {}\n",
    "for key, value in df_training_dict.items():\n",
    "    correlations_dict[key] = value[['Act', 'Number_Nonzero_Descriptor']].corr()"
   ]
  },
  {
   "cell_type": "code",
   "execution_count": 15,
   "metadata": {
    "collapsed": true
   },
   "outputs": [
    {
     "name": "stdout",
     "output_type": "stream",
     "text": [
      "df_training_13 \n",
      "                                 Act  Number_Nonzero_Descriptor\n",
      "Act                        1.000000                  -0.236755\n",
      "Number_Nonzero_Descriptor -0.236755                   1.000000 \n",
      " \n",
      "\n",
      "df_training_12 \n",
      "                                 Act  Number_Nonzero_Descriptor\n",
      "Act                        1.000000                  -0.111715\n",
      "Number_Nonzero_Descriptor -0.111715                   1.000000 \n",
      " \n",
      "\n",
      "df_training_11 \n",
      "                                 Act  Number_Nonzero_Descriptor\n",
      "Act                        1.000000                   0.428692\n",
      "Number_Nonzero_Descriptor  0.428692                   1.000000 \n",
      " \n",
      "\n",
      "df_training_10 \n",
      "                                 Act  Number_Nonzero_Descriptor\n",
      "Act                        1.000000                   0.343688\n",
      "Number_Nonzero_Descriptor  0.343688                   1.000000 \n",
      " \n",
      "\n",
      "df_training_15 \n",
      "                                 Act  Number_Nonzero_Descriptor\n",
      "Act                        1.000000                   0.449906\n",
      "Number_Nonzero_Descriptor  0.449906                   1.000000 \n",
      " \n",
      "\n",
      "df_training_14 \n",
      "                                 Act  Number_Nonzero_Descriptor\n",
      "Act                        1.000000                   0.084748\n",
      "Number_Nonzero_Descriptor  0.084748                   1.000000 \n",
      " \n",
      "\n",
      "df_training_3 \n",
      "                                Act  Number_Nonzero_Descriptor\n",
      "Act                        1.00000                    0.27556\n",
      "Number_Nonzero_Descriptor  0.27556                    1.00000 \n",
      " \n",
      "\n",
      "df_training_2 \n",
      "                               Act  Number_Nonzero_Descriptor\n",
      "Act                        1.0000                     0.3541\n",
      "Number_Nonzero_Descriptor  0.3541                     1.0000 \n",
      " \n",
      "\n",
      "df_training_1 \n",
      "                                 Act  Number_Nonzero_Descriptor\n",
      "Act                        1.000000                  -0.030935\n",
      "Number_Nonzero_Descriptor -0.030935                   1.000000 \n",
      " \n",
      "\n",
      "df_training_7 \n",
      "                                 Act  Number_Nonzero_Descriptor\n",
      "Act                        1.000000                   0.164112\n",
      "Number_Nonzero_Descriptor  0.164112                   1.000000 \n",
      " \n",
      "\n",
      "df_training_6 \n",
      "                                 Act  Number_Nonzero_Descriptor\n",
      "Act                        1.000000                   0.029329\n",
      "Number_Nonzero_Descriptor  0.029329                   1.000000 \n",
      " \n",
      "\n",
      "df_training_5 \n",
      "                                 Act  Number_Nonzero_Descriptor\n",
      "Act                        1.000000                   0.546311\n",
      "Number_Nonzero_Descriptor  0.546311                   1.000000 \n",
      " \n",
      "\n",
      "df_training_4 \n",
      "                                Act  Number_Nonzero_Descriptor\n",
      "Act                        1.00000                    0.07559\n",
      "Number_Nonzero_Descriptor  0.07559                    1.00000 \n",
      " \n",
      "\n",
      "df_training_9 \n",
      "                                 Act  Number_Nonzero_Descriptor\n",
      "Act                        1.000000                   0.269017\n",
      "Number_Nonzero_Descriptor  0.269017                   1.000000 \n",
      " \n",
      "\n",
      "df_training_8 \n",
      "                                 Act  Number_Nonzero_Descriptor\n",
      "Act                        1.000000                   0.244806\n",
      "Number_Nonzero_Descriptor  0.244806                   1.000000 \n",
      " \n",
      "\n"
     ]
    }
   ],
   "source": [
    "for key, value in correlations_dict.items():\n",
    "    print('{0} \\n {1} \\n \\n'.format(key, value))"
   ]
  },
  {
   "cell_type": "markdown",
   "metadata": {
    "heading_collapsed": true
   },
   "source": [
    "# Old code"
   ]
  },
  {
   "cell_type": "code",
   "execution_count": 18,
   "metadata": {
    "hidden": true
   },
   "outputs": [
    {
     "name": "stdout",
     "output_type": "stream",
     "text": [
      "                                Act  Number_Nonzero_Descriptor\n",
      "Act                        1.000000                  -0.030935\n",
      "Number_Nonzero_Descriptor -0.030935                   1.000000\n"
     ]
    }
   ],
   "source": [
    "df_training_1[\"Number_Nonzero_Descriptor\"] = df_training_1.iloc[:,2:-2].apply(lambda x: len(x[x != 0]), axis = 1)\n",
    "print(df_training_1[['Act', 'Number_Nonzero_Descriptor']].corr())"
   ]
  },
  {
   "cell_type": "code",
   "execution_count": 19,
   "metadata": {
    "hidden": true
   },
   "outputs": [
    {
     "name": "stdout",
     "output_type": "stream",
     "text": [
      "                              Act  Number_Nonzero_Descriptor\n",
      "Act                        1.0000                     0.3541\n",
      "Number_Nonzero_Descriptor  0.3541                     1.0000\n"
     ]
    }
   ],
   "source": [
    "df_training_2[\"Number_Nonzero_Descriptor\"] = df_training_2.iloc[:,2:-2].apply(lambda x: len(x[x != 0]), axis = 1)\n",
    "print(df_training_2[['Act', 'Number_Nonzero_Descriptor']].corr())"
   ]
  },
  {
   "cell_type": "code",
   "execution_count": 20,
   "metadata": {
    "hidden": true
   },
   "outputs": [
    {
     "name": "stdout",
     "output_type": "stream",
     "text": [
      "                               Act  Number_Nonzero_Descriptor\n",
      "Act                        1.00000                    0.27556\n",
      "Number_Nonzero_Descriptor  0.27556                    1.00000\n"
     ]
    }
   ],
   "source": [
    "df_training_3[\"Number_Nonzero_Descriptor\"] = df_training_3.iloc[:,2:-2].apply(lambda x: len(x[x != 0]), axis = 1)\n",
    "print(df_training_3[['Act', 'Number_Nonzero_Descriptor']].corr())"
   ]
  },
  {
   "cell_type": "code",
   "execution_count": 21,
   "metadata": {
    "hidden": true
   },
   "outputs": [
    {
     "name": "stdout",
     "output_type": "stream",
     "text": [
      "                               Act  Number_Nonzero_Descriptor\n",
      "Act                        1.00000                    0.07559\n",
      "Number_Nonzero_Descriptor  0.07559                    1.00000\n"
     ]
    }
   ],
   "source": [
    "df_training_4[\"Number_Nonzero_Descriptor\"] = df_training_4.iloc[:,2:-2].apply(lambda x: len(x[x != 0]), axis = 1)\n",
    "print(df_training_4[['Act', 'Number_Nonzero_Descriptor']].corr())"
   ]
  },
  {
   "cell_type": "code",
   "execution_count": 22,
   "metadata": {
    "hidden": true
   },
   "outputs": [
    {
     "name": "stdout",
     "output_type": "stream",
     "text": [
      "                                Act  Number_Nonzero_Descriptor\n",
      "Act                        1.000000                   0.546311\n",
      "Number_Nonzero_Descriptor  0.546311                   1.000000\n"
     ]
    }
   ],
   "source": [
    "df_training_5[\"Number_Nonzero_Descriptor\"] = df_training_5.iloc[:,2:-2].apply(lambda x: len(x[x != 0]), axis = 1)\n",
    "print(df_training_5[['Act', 'Number_Nonzero_Descriptor']].corr())"
   ]
  },
  {
   "cell_type": "code",
   "execution_count": 23,
   "metadata": {
    "hidden": true
   },
   "outputs": [
    {
     "name": "stdout",
     "output_type": "stream",
     "text": [
      "                                Act  Number_Nonzero_Descriptor\n",
      "Act                        1.000000                   0.029329\n",
      "Number_Nonzero_Descriptor  0.029329                   1.000000\n"
     ]
    }
   ],
   "source": [
    "df_training_6[\"Number_Nonzero_Descriptor\"] = df_training_6.iloc[:,2:-2].apply(lambda x: len(x[x != 0]), axis = 1)\n",
    "print(df_training_6[['Act', 'Number_Nonzero_Descriptor']].corr())"
   ]
  },
  {
   "cell_type": "code",
   "execution_count": 24,
   "metadata": {
    "hidden": true
   },
   "outputs": [
    {
     "name": "stdout",
     "output_type": "stream",
     "text": [
      "                                Act  Number_Nonzero_Descriptor\n",
      "Act                        1.000000                   0.164097\n",
      "Number_Nonzero_Descriptor  0.164097                   1.000000\n"
     ]
    }
   ],
   "source": [
    "df_training_7[\"Number_Nonzero_Descriptor\"] = df_training_7.iloc[:,2:-2].apply(lambda x: len(x[x != 0]), axis = 1)\n",
    "print(df_training_7[['Act', 'Number_Nonzero_Descriptor']].corr())"
   ]
  },
  {
   "cell_type": "code",
   "execution_count": 25,
   "metadata": {
    "hidden": true
   },
   "outputs": [
    {
     "name": "stdout",
     "output_type": "stream",
     "text": [
      "                                Act  Number_Nonzero_Descriptor\n",
      "Act                        1.000000                   0.244806\n",
      "Number_Nonzero_Descriptor  0.244806                   1.000000\n"
     ]
    }
   ],
   "source": [
    "df_training_8[\"Number_Nonzero_Descriptor\"] = df_training_8.iloc[:,2:-2].apply(lambda x: len(x[x != 0]), axis = 1)\n",
    "print(df_training_8[['Act', 'Number_Nonzero_Descriptor']].corr())"
   ]
  },
  {
   "cell_type": "code",
   "execution_count": 26,
   "metadata": {
    "hidden": true
   },
   "outputs": [
    {
     "name": "stdout",
     "output_type": "stream",
     "text": [
      "                                Act  Number_Nonzero_Descriptor\n",
      "Act                        1.000000                   0.269017\n",
      "Number_Nonzero_Descriptor  0.269017                   1.000000\n"
     ]
    }
   ],
   "source": [
    "df_training_9[\"Number_Nonzero_Descriptor\"] = df_training_9.iloc[:,2:-2].apply(lambda x: len(x[x != 0]), axis = 1)\n",
    "print(df_training_9[['Act', 'Number_Nonzero_Descriptor']].corr())"
   ]
  },
  {
   "cell_type": "code",
   "execution_count": 27,
   "metadata": {
    "hidden": true
   },
   "outputs": [
    {
     "name": "stdout",
     "output_type": "stream",
     "text": [
      "                                Act  Number_Nonzero_Descriptor\n",
      "Act                        1.000000                   0.343688\n",
      "Number_Nonzero_Descriptor  0.343688                   1.000000\n"
     ]
    }
   ],
   "source": [
    "df_training_10[\"Number_Nonzero_Descriptor\"] = df_training_10.iloc[:,2:-2].apply(lambda x: len(x[x != 0]), axis = 1)\n",
    "print(df_training_10[['Act', 'Number_Nonzero_Descriptor']].corr())"
   ]
  },
  {
   "cell_type": "code",
   "execution_count": 28,
   "metadata": {
    "hidden": true
   },
   "outputs": [
    {
     "name": "stdout",
     "output_type": "stream",
     "text": [
      "                                Act  Number_Nonzero_Descriptor\n",
      "Act                        1.000000                   0.428692\n",
      "Number_Nonzero_Descriptor  0.428692                   1.000000\n"
     ]
    }
   ],
   "source": [
    "df_training_11[\"Number_Nonzero_Descriptor\"] = df_training_11.iloc[:,2:-2].apply(lambda x: len(x[x != 0]), axis = 1)\n",
    "print(df_training_11[['Act', 'Number_Nonzero_Descriptor']].corr())"
   ]
  },
  {
   "cell_type": "code",
   "execution_count": 29,
   "metadata": {
    "hidden": true
   },
   "outputs": [
    {
     "name": "stdout",
     "output_type": "stream",
     "text": [
      "                                Act  Number_Nonzero_Descriptor\n",
      "Act                        1.000000                  -0.111715\n",
      "Number_Nonzero_Descriptor -0.111715                   1.000000\n"
     ]
    }
   ],
   "source": [
    "df_training_12[\"Number_Nonzero_Descriptor\"] = df_training_12.iloc[:,2:-2].apply(lambda x: len(x[x != 0]), axis = 1)\n",
    "print(df_training_12[['Act', 'Number_Nonzero_Descriptor']].corr())"
   ]
  },
  {
   "cell_type": "code",
   "execution_count": 30,
   "metadata": {
    "hidden": true
   },
   "outputs": [
    {
     "name": "stdout",
     "output_type": "stream",
     "text": [
      "                                Act  Number_Nonzero_Descriptor\n",
      "Act                        1.000000                  -0.236755\n",
      "Number_Nonzero_Descriptor -0.236755                   1.000000\n"
     ]
    }
   ],
   "source": [
    "df_training_13[\"Number_Nonzero_Descriptor\"] = df_training_13.iloc[:,2:-2].apply(lambda x: len(x[x != 0]), axis = 1)\n",
    "print(df_training_13[['Act', 'Number_Nonzero_Descriptor']].corr())"
   ]
  },
  {
   "cell_type": "code",
   "execution_count": 31,
   "metadata": {
    "hidden": true
   },
   "outputs": [
    {
     "name": "stdout",
     "output_type": "stream",
     "text": [
      "                                Act  Number_Nonzero_Descriptor\n",
      "Act                        1.000000                   0.084748\n",
      "Number_Nonzero_Descriptor  0.084748                   1.000000\n"
     ]
    }
   ],
   "source": [
    "df_training_14[\"Number_Nonzero_Descriptor\"] = df_training_14.iloc[:,2:-2].apply(lambda x: len(x[x != 0]), axis = 1)\n",
    "print(df_training_14[['Act', 'Number_Nonzero_Descriptor']].corr())"
   ]
  },
  {
   "cell_type": "code",
   "execution_count": 32,
   "metadata": {
    "hidden": true
   },
   "outputs": [
    {
     "name": "stdout",
     "output_type": "stream",
     "text": [
      "                                Act  Number_Nonzero_Descriptor\n",
      "Act                        1.000000                   0.449906\n",
      "Number_Nonzero_Descriptor  0.449906                   1.000000\n"
     ]
    }
   ],
   "source": [
    "df_training_15[\"Number_Nonzero_Descriptor\"] = df_training_15.iloc[:,2:-2].apply(lambda x: len(x[x != 0]), axis = 1)\n",
    "print(df_training_15[['Act', 'Number_Nonzero_Descriptor']].corr())"
   ]
  },
  {
   "cell_type": "markdown",
   "metadata": {},
   "source": [
    "# New code"
   ]
  },
  {
   "cell_type": "code",
   "execution_count": null,
   "metadata": {},
   "outputs": [],
   "source": []
  },
  {
   "cell_type": "code",
   "execution_count": 22,
   "metadata": {},
   "outputs": [
    {
     "data": {
      "text/html": [
       "<div>\n",
       "<style>\n",
       "    .dataframe thead tr:only-child th {\n",
       "        text-align: right;\n",
       "    }\n",
       "\n",
       "    .dataframe thead th {\n",
       "        text-align: left;\n",
       "    }\n",
       "\n",
       "    .dataframe tbody tr th {\n",
       "        vertical-align: top;\n",
       "    }\n",
       "</style>\n",
       "<table border=\"1\" class=\"dataframe\">\n",
       "  <thead>\n",
       "    <tr style=\"text-align: right;\">\n",
       "      <th></th>\n",
       "      <th>Act</th>\n",
       "      <th>Number_Nonzero_Descriptor</th>\n",
       "    </tr>\n",
       "  </thead>\n",
       "  <tbody>\n",
       "    <tr>\n",
       "      <th>Act</th>\n",
       "      <td>1.000000</td>\n",
       "      <td>0.164112</td>\n",
       "    </tr>\n",
       "    <tr>\n",
       "      <th>Number_Nonzero_Descriptor</th>\n",
       "      <td>0.164112</td>\n",
       "      <td>1.000000</td>\n",
       "    </tr>\n",
       "  </tbody>\n",
       "</table>\n",
       "</div>"
      ],
      "text/plain": [
       "                                Act  Number_Nonzero_Descriptor\n",
       "Act                        1.000000                   0.164112\n",
       "Number_Nonzero_Descriptor  0.164112                   1.000000"
      ]
     },
     "execution_count": 22,
     "metadata": {},
     "output_type": "execute_result"
    }
   ],
   "source": [
    "# In activity 7, Check if there is correlation \n",
    "# between the number of non-zero descriptors and activity level measurement\n",
    "\n",
    "# df_training_7[['Act', 'Number_Nonzero_Descriptor']].cov()"
   ]
  },
  {
   "cell_type": "code",
   "execution_count": 42,
   "metadata": {
    "collapsed": true
   },
   "outputs": [],
   "source": [
    "#apply(lambda x: len(x[x !=0]), axis =0)\n",
    "# important_descriptors_cross_molecules = df_training_7.iloc[:, 2:-3]\n",
    "# counts_for_nonzero_descriptors = important_descriptors_cross_molecules.apply(lambda x: len(important_descriptors_cross_molecules[x != 0]))\n",
    "# counts_for_nonzero_descriptors.idmax()"
   ]
  },
  {
   "cell_type": "code",
   "execution_count": 2,
   "metadata": {},
   "outputs": [
    {
     "data": {
      "text/html": [
       "<div>\n",
       "<style>\n",
       "    .dataframe thead tr:only-child th {\n",
       "        text-align: right;\n",
       "    }\n",
       "\n",
       "    .dataframe thead th {\n",
       "        text-align: left;\n",
       "    }\n",
       "\n",
       "    .dataframe tbody tr th {\n",
       "        vertical-align: top;\n",
       "    }\n",
       "</style>\n",
       "<table border=\"1\" class=\"dataframe\">\n",
       "  <thead>\n",
       "    <tr style=\"text-align: right;\">\n",
       "      <th></th>\n",
       "      <th>MOLECULE</th>\n",
       "      <th>Act</th>\n",
       "      <th>D_5</th>\n",
       "      <th>D_40</th>\n",
       "      <th>D_41</th>\n",
       "      <th>D_43</th>\n",
       "      <th>D_44</th>\n",
       "      <th>D_45</th>\n",
       "      <th>D_48</th>\n",
       "      <th>D_49</th>\n",
       "      <th>...</th>\n",
       "      <th>D_11031</th>\n",
       "      <th>D_11032</th>\n",
       "      <th>D_11035</th>\n",
       "      <th>D_11036</th>\n",
       "      <th>D_11045</th>\n",
       "      <th>D_11048</th>\n",
       "      <th>D_11050</th>\n",
       "      <th>D_11057</th>\n",
       "      <th>D_11060</th>\n",
       "      <th>D_11063</th>\n",
       "    </tr>\n",
       "  </thead>\n",
       "  <tbody>\n",
       "    <tr>\n",
       "      <th>0</th>\n",
       "      <td>ACT5_M_2105</td>\n",
       "      <td>5.8325</td>\n",
       "      <td>0</td>\n",
       "      <td>0</td>\n",
       "      <td>0</td>\n",
       "      <td>0</td>\n",
       "      <td>0</td>\n",
       "      <td>0</td>\n",
       "      <td>0</td>\n",
       "      <td>0</td>\n",
       "      <td>...</td>\n",
       "      <td>0</td>\n",
       "      <td>0</td>\n",
       "      <td>0</td>\n",
       "      <td>0</td>\n",
       "      <td>0</td>\n",
       "      <td>0</td>\n",
       "      <td>0</td>\n",
       "      <td>0</td>\n",
       "      <td>0</td>\n",
       "      <td>0</td>\n",
       "    </tr>\n",
       "    <tr>\n",
       "      <th>1</th>\n",
       "      <td>ACT5_M_2106</td>\n",
       "      <td>4.8514</td>\n",
       "      <td>0</td>\n",
       "      <td>0</td>\n",
       "      <td>0</td>\n",
       "      <td>0</td>\n",
       "      <td>0</td>\n",
       "      <td>0</td>\n",
       "      <td>0</td>\n",
       "      <td>0</td>\n",
       "      <td>...</td>\n",
       "      <td>0</td>\n",
       "      <td>0</td>\n",
       "      <td>0</td>\n",
       "      <td>0</td>\n",
       "      <td>0</td>\n",
       "      <td>0</td>\n",
       "      <td>0</td>\n",
       "      <td>0</td>\n",
       "      <td>0</td>\n",
       "      <td>0</td>\n",
       "    </tr>\n",
       "    <tr>\n",
       "      <th>2</th>\n",
       "      <td>ACT5_M_2108</td>\n",
       "      <td>4.9987</td>\n",
       "      <td>0</td>\n",
       "      <td>0</td>\n",
       "      <td>0</td>\n",
       "      <td>0</td>\n",
       "      <td>0</td>\n",
       "      <td>0</td>\n",
       "      <td>0</td>\n",
       "      <td>0</td>\n",
       "      <td>...</td>\n",
       "      <td>0</td>\n",
       "      <td>0</td>\n",
       "      <td>0</td>\n",
       "      <td>0</td>\n",
       "      <td>0</td>\n",
       "      <td>0</td>\n",
       "      <td>0</td>\n",
       "      <td>0</td>\n",
       "      <td>0</td>\n",
       "      <td>0</td>\n",
       "    </tr>\n",
       "    <tr>\n",
       "      <th>3</th>\n",
       "      <td>ACT5_M_3044</td>\n",
       "      <td>2.9581</td>\n",
       "      <td>0</td>\n",
       "      <td>0</td>\n",
       "      <td>0</td>\n",
       "      <td>0</td>\n",
       "      <td>0</td>\n",
       "      <td>0</td>\n",
       "      <td>0</td>\n",
       "      <td>0</td>\n",
       "      <td>...</td>\n",
       "      <td>0</td>\n",
       "      <td>0</td>\n",
       "      <td>0</td>\n",
       "      <td>0</td>\n",
       "      <td>0</td>\n",
       "      <td>0</td>\n",
       "      <td>0</td>\n",
       "      <td>0</td>\n",
       "      <td>0</td>\n",
       "      <td>0</td>\n",
       "    </tr>\n",
       "    <tr>\n",
       "      <th>4</th>\n",
       "      <td>ACT5_M_3619</td>\n",
       "      <td>4.0962</td>\n",
       "      <td>0</td>\n",
       "      <td>0</td>\n",
       "      <td>0</td>\n",
       "      <td>0</td>\n",
       "      <td>0</td>\n",
       "      <td>0</td>\n",
       "      <td>0</td>\n",
       "      <td>0</td>\n",
       "      <td>...</td>\n",
       "      <td>0</td>\n",
       "      <td>0</td>\n",
       "      <td>0</td>\n",
       "      <td>0</td>\n",
       "      <td>0</td>\n",
       "      <td>0</td>\n",
       "      <td>0</td>\n",
       "      <td>0</td>\n",
       "      <td>0</td>\n",
       "      <td>0</td>\n",
       "    </tr>\n",
       "  </tbody>\n",
       "</table>\n",
       "<p>5 rows × 6276 columns</p>\n",
       "</div>"
      ],
      "text/plain": [
       "      MOLECULE     Act  D_5  D_40  D_41  D_43  D_44  D_45  D_48  D_49  \\\n",
       "0  ACT5_M_2105  5.8325    0     0     0     0     0     0     0     0   \n",
       "1  ACT5_M_2106  4.8514    0     0     0     0     0     0     0     0   \n",
       "2  ACT5_M_2108  4.9987    0     0     0     0     0     0     0     0   \n",
       "3  ACT5_M_3044  2.9581    0     0     0     0     0     0     0     0   \n",
       "4  ACT5_M_3619  4.0962    0     0     0     0     0     0     0     0   \n",
       "\n",
       "    ...     D_11031  D_11032  D_11035  D_11036  D_11045  D_11048  D_11050  \\\n",
       "0   ...           0        0        0        0        0        0        0   \n",
       "1   ...           0        0        0        0        0        0        0   \n",
       "2   ...           0        0        0        0        0        0        0   \n",
       "3   ...           0        0        0        0        0        0        0   \n",
       "4   ...           0        0        0        0        0        0        0   \n",
       "\n",
       "   D_11057  D_11060  D_11063  \n",
       "0        0        0        0  \n",
       "1        0        0        0  \n",
       "2        0        0        0  \n",
       "3        0        0        0  \n",
       "4        0        0        0  \n",
       "\n",
       "[5 rows x 6276 columns]"
      ]
     },
     "execution_count": 2,
     "metadata": {},
     "output_type": "execute_result"
    }
   ],
   "source": [
    "df_training_5 = pd.read_csv('ACT5_competition_training.csv', header=0)\n",
    "df_training_5.head()"
   ]
  },
  {
   "cell_type": "code",
   "execution_count": 3,
   "metadata": {
    "collapsed": true
   },
   "outputs": [],
   "source": [
    "import numpy as np"
   ]
  },
  {
   "cell_type": "code",
   "execution_count": 4,
   "metadata": {
    "collapsed": true
   },
   "outputs": [],
   "source": [
    "count_non_zero_thrucolumn = np.array(df_training_5.iloc[:, 2: -1])\n",
    "stack = np.count_nonzero(count_non_zero_thrucolumn, axis=0)"
   ]
  },
  {
   "cell_type": "code",
   "execution_count": 18,
   "metadata": {
    "collapsed": true
   },
   "outputs": [],
   "source": [
    "not_effective_descriptors = stack[stack == 0]"
   ]
  },
  {
   "cell_type": "code",
   "execution_count": 19,
   "metadata": {
    "scrolled": true
   },
   "outputs": [
    {
     "data": {
      "text/plain": [
       "523"
      ]
     },
     "execution_count": 19,
     "metadata": {},
     "output_type": "execute_result"
    }
   ],
   "source": [
    "len(not_effective_descriptors)"
   ]
  },
  {
   "cell_type": "code",
   "execution_count": 20,
   "metadata": {},
   "outputs": [
    {
     "data": {
      "text/plain": [
       "5750"
      ]
     },
     "execution_count": 20,
     "metadata": {},
     "output_type": "execute_result"
    }
   ],
   "source": [
    "effective_descriptors = stack[stack != 0]\n",
    "len(effective_descriptors)"
   ]
  },
  {
   "cell_type": "code",
   "execution_count": 21,
   "metadata": {},
   "outputs": [
    {
     "name": "stdout",
     "output_type": "stream",
     "text": [
      "Number of not effective descriptors:270\n",
      "Number of effective descriptors:5281\n"
     ]
    }
   ],
   "source": [
    "df_training_15 = pd.read_csv('ACT15_competition_training.csv', header=0)\n",
    "count_non_zero_thrucolumn_15 = np.array(df_training_15.iloc[:, 2: -1])\n",
    "stack_15 = np.count_nonzero(count_non_zero_thrucolumn_15, axis=0)\n",
    "print(\"Number of not effective descriptors:{0}\".format(len(stack_15[stack_15 == 0])))\n",
    "print(\"Number of effective descriptors:{0}\".format(len(stack_15[stack_15 != 0])))"
   ]
  },
  {
   "cell_type": "code",
   "execution_count": 22,
   "metadata": {},
   "outputs": [
    {
     "name": "stdout",
     "output_type": "stream",
     "text": [
      "Number of not effective descriptors:404\n",
      "Number of effective descriptors:4730\n"
     ]
    }
   ],
   "source": [
    "df_training_11 = pd.read_csv('ACT11_competition_training.csv', header=0)\n",
    "count_non_zero_thrucolumn_11 = np.array(df_training_11.iloc[:, 2: -1])\n",
    "stack_11 = np.count_nonzero(count_non_zero_thrucolumn_11, axis=0)\n",
    "print(\"Number of not effective descriptors:{0}\".format(len(stack_11[stack_11 == 0])))\n",
    "print(\"Number of effective descriptors:{0}\".format(len(stack_11[stack_11 != 0])))"
   ]
  },
  {
   "cell_type": "code",
   "execution_count": 23,
   "metadata": {},
   "outputs": [
    {
     "name": "stdout",
     "output_type": "stream",
     "text": [
      "Number of not effective descriptors:231\n",
      "Number of effective descriptors:5713\n"
     ]
    }
   ],
   "source": [
    "df_training_14 = pd.read_csv('ACT14_competition_training.csv', header=0)\n",
    "count_non_zero_thrucolumn_14 = np.array(df_training_14.iloc[:, 2: -1])\n",
    "stack_14 = np.count_nonzero(count_non_zero_thrucolumn_14, axis=0)\n",
    "print(\"Number of not effective descriptors:{0}\".format(len(stack_14[stack_14 == 0])))\n",
    "print(\"Number of effective descriptors:{0}\".format(len(stack_14[stack_14 != 0])))"
   ]
  },
  {
   "cell_type": "code",
   "execution_count": 30,
   "metadata": {
    "collapsed": true
   },
   "outputs": [],
   "source": [
    "name_effective_descriptors_14 = list(filter(lambda x: x[1] != 0, list(zip(list((df_training_14.iloc[:, 2:-1]).columns.values), stack_14))))"
   ]
  },
  {
   "cell_type": "code",
   "execution_count": 65,
   "metadata": {},
   "outputs": [
    {
     "ename": "ValueError",
     "evalue": "('The truth value of a Series is ambiguous. Use a.empty, a.bool(), a.item(), a.any() or a.all().', 'occurred at index D_37')",
     "output_type": "error",
     "traceback": [
      "\u001b[1;31m---------------------------------------------------------------------------\u001b[0m",
      "\u001b[1;31mValueError\u001b[0m                                Traceback (most recent call last)",
      "\u001b[1;32m<ipython-input-65-111801d90ac7>\u001b[0m in \u001b[0;36m<module>\u001b[1;34m()\u001b[0m\n\u001b[0;32m      1\u001b[0m \u001b[0mdf_training_7\u001b[0m \u001b[1;33m=\u001b[0m \u001b[0mpd\u001b[0m\u001b[1;33m.\u001b[0m\u001b[0mread_csv\u001b[0m\u001b[1;33m(\u001b[0m\u001b[1;34m'ACT7_competition_training.csv'\u001b[0m\u001b[1;33m,\u001b[0m \u001b[0mheader\u001b[0m\u001b[1;33m=\u001b[0m\u001b[1;36m0\u001b[0m\u001b[1;33m)\u001b[0m\u001b[1;33m\u001b[0m\u001b[0m\n\u001b[1;32m----> 2\u001b[1;33m \u001b[1;33m(\u001b[0m\u001b[0mdf_training_7\u001b[0m\u001b[1;33m.\u001b[0m\u001b[0miloc\u001b[0m\u001b[1;33m[\u001b[0m\u001b[1;33m:\u001b[0m\u001b[1;33m,\u001b[0m \u001b[1;36m2\u001b[0m\u001b[1;33m:\u001b[0m\u001b[1;33m-\u001b[0m\u001b[1;36m1\u001b[0m\u001b[1;33m]\u001b[0m\u001b[1;33m)\u001b[0m\u001b[1;33m.\u001b[0m\u001b[0mapply\u001b[0m\u001b[1;33m(\u001b[0m\u001b[1;32mlambda\u001b[0m \u001b[0mx\u001b[0m\u001b[1;33m:\u001b[0m \u001b[1;36m1\u001b[0m \u001b[1;32mif\u001b[0m \u001b[0mx\u001b[0m \u001b[1;33m!=\u001b[0m \u001b[1;36m0\u001b[0m \u001b[1;32melse\u001b[0m \u001b[1;36m0\u001b[0m\u001b[1;33m)\u001b[0m\u001b[1;33m\u001b[0m\u001b[0m\n\u001b[0m\u001b[0;32m      3\u001b[0m \u001b[0mdf_training_7\u001b[0m\u001b[1;33m.\u001b[0m\u001b[0mhead\u001b[0m\u001b[1;33m(\u001b[0m\u001b[1;33m)\u001b[0m\u001b[1;33m\u001b[0m\u001b[0m\n",
      "\u001b[1;32m~\\Anaconda3\\lib\\site-packages\\pandas\\core\\frame.py\u001b[0m in \u001b[0;36mapply\u001b[1;34m(self, func, axis, broadcast, raw, reduce, args, **kwds)\u001b[0m\n\u001b[0;32m   4260\u001b[0m                         \u001b[0mf\u001b[0m\u001b[1;33m,\u001b[0m \u001b[0maxis\u001b[0m\u001b[1;33m,\u001b[0m\u001b[1;33m\u001b[0m\u001b[0m\n\u001b[0;32m   4261\u001b[0m                         \u001b[0mreduce\u001b[0m\u001b[1;33m=\u001b[0m\u001b[0mreduce\u001b[0m\u001b[1;33m,\u001b[0m\u001b[1;33m\u001b[0m\u001b[0m\n\u001b[1;32m-> 4262\u001b[1;33m                         ignore_failures=ignore_failures)\n\u001b[0m\u001b[0;32m   4263\u001b[0m             \u001b[1;32melse\u001b[0m\u001b[1;33m:\u001b[0m\u001b[1;33m\u001b[0m\u001b[0m\n\u001b[0;32m   4264\u001b[0m                 \u001b[1;32mreturn\u001b[0m \u001b[0mself\u001b[0m\u001b[1;33m.\u001b[0m\u001b[0m_apply_broadcast\u001b[0m\u001b[1;33m(\u001b[0m\u001b[0mf\u001b[0m\u001b[1;33m,\u001b[0m \u001b[0maxis\u001b[0m\u001b[1;33m)\u001b[0m\u001b[1;33m\u001b[0m\u001b[0m\n",
      "\u001b[1;32m~\\Anaconda3\\lib\\site-packages\\pandas\\core\\frame.py\u001b[0m in \u001b[0;36m_apply_standard\u001b[1;34m(self, func, axis, ignore_failures, reduce)\u001b[0m\n\u001b[0;32m   4356\u001b[0m             \u001b[1;32mtry\u001b[0m\u001b[1;33m:\u001b[0m\u001b[1;33m\u001b[0m\u001b[0m\n\u001b[0;32m   4357\u001b[0m                 \u001b[1;32mfor\u001b[0m \u001b[0mi\u001b[0m\u001b[1;33m,\u001b[0m \u001b[0mv\u001b[0m \u001b[1;32min\u001b[0m \u001b[0menumerate\u001b[0m\u001b[1;33m(\u001b[0m\u001b[0mseries_gen\u001b[0m\u001b[1;33m)\u001b[0m\u001b[1;33m:\u001b[0m\u001b[1;33m\u001b[0m\u001b[0m\n\u001b[1;32m-> 4358\u001b[1;33m                     \u001b[0mresults\u001b[0m\u001b[1;33m[\u001b[0m\u001b[0mi\u001b[0m\u001b[1;33m]\u001b[0m \u001b[1;33m=\u001b[0m \u001b[0mfunc\u001b[0m\u001b[1;33m(\u001b[0m\u001b[0mv\u001b[0m\u001b[1;33m)\u001b[0m\u001b[1;33m\u001b[0m\u001b[0m\n\u001b[0m\u001b[0;32m   4359\u001b[0m                     \u001b[0mkeys\u001b[0m\u001b[1;33m.\u001b[0m\u001b[0mappend\u001b[0m\u001b[1;33m(\u001b[0m\u001b[0mv\u001b[0m\u001b[1;33m.\u001b[0m\u001b[0mname\u001b[0m\u001b[1;33m)\u001b[0m\u001b[1;33m\u001b[0m\u001b[0m\n\u001b[0;32m   4360\u001b[0m             \u001b[1;32mexcept\u001b[0m \u001b[0mException\u001b[0m \u001b[1;32mas\u001b[0m \u001b[0me\u001b[0m\u001b[1;33m:\u001b[0m\u001b[1;33m\u001b[0m\u001b[0m\n",
      "\u001b[1;32m<ipython-input-65-111801d90ac7>\u001b[0m in \u001b[0;36m<lambda>\u001b[1;34m(x)\u001b[0m\n\u001b[0;32m      1\u001b[0m \u001b[0mdf_training_7\u001b[0m \u001b[1;33m=\u001b[0m \u001b[0mpd\u001b[0m\u001b[1;33m.\u001b[0m\u001b[0mread_csv\u001b[0m\u001b[1;33m(\u001b[0m\u001b[1;34m'ACT7_competition_training.csv'\u001b[0m\u001b[1;33m,\u001b[0m \u001b[0mheader\u001b[0m\u001b[1;33m=\u001b[0m\u001b[1;36m0\u001b[0m\u001b[1;33m)\u001b[0m\u001b[1;33m\u001b[0m\u001b[0m\n\u001b[1;32m----> 2\u001b[1;33m \u001b[1;33m(\u001b[0m\u001b[0mdf_training_7\u001b[0m\u001b[1;33m.\u001b[0m\u001b[0miloc\u001b[0m\u001b[1;33m[\u001b[0m\u001b[1;33m:\u001b[0m\u001b[1;33m,\u001b[0m \u001b[1;36m2\u001b[0m\u001b[1;33m:\u001b[0m\u001b[1;33m-\u001b[0m\u001b[1;36m1\u001b[0m\u001b[1;33m]\u001b[0m\u001b[1;33m)\u001b[0m\u001b[1;33m.\u001b[0m\u001b[0mapply\u001b[0m\u001b[1;33m(\u001b[0m\u001b[1;32mlambda\u001b[0m \u001b[0mx\u001b[0m\u001b[1;33m:\u001b[0m \u001b[1;36m1\u001b[0m \u001b[1;32mif\u001b[0m \u001b[0mx\u001b[0m \u001b[1;33m!=\u001b[0m \u001b[1;36m0\u001b[0m \u001b[1;32melse\u001b[0m \u001b[1;36m0\u001b[0m\u001b[1;33m)\u001b[0m\u001b[1;33m\u001b[0m\u001b[0m\n\u001b[0m\u001b[0;32m      3\u001b[0m \u001b[0mdf_training_7\u001b[0m\u001b[1;33m.\u001b[0m\u001b[0mhead\u001b[0m\u001b[1;33m(\u001b[0m\u001b[1;33m)\u001b[0m\u001b[1;33m\u001b[0m\u001b[0m\n",
      "\u001b[1;32m~\\Anaconda3\\lib\\site-packages\\pandas\\core\\generic.py\u001b[0m in \u001b[0;36m__nonzero__\u001b[1;34m(self)\u001b[0m\n\u001b[0;32m    953\u001b[0m         raise ValueError(\"The truth value of a {0} is ambiguous. \"\n\u001b[0;32m    954\u001b[0m                          \u001b[1;34m\"Use a.empty, a.bool(), a.item(), a.any() or a.all().\"\u001b[0m\u001b[1;33m\u001b[0m\u001b[0m\n\u001b[1;32m--> 955\u001b[1;33m                          .format(self.__class__.__name__))\n\u001b[0m\u001b[0;32m    956\u001b[0m \u001b[1;33m\u001b[0m\u001b[0m\n\u001b[0;32m    957\u001b[0m     \u001b[0m__bool__\u001b[0m \u001b[1;33m=\u001b[0m \u001b[0m__nonzero__\u001b[0m\u001b[1;33m\u001b[0m\u001b[0m\n",
      "\u001b[1;31mValueError\u001b[0m: ('The truth value of a Series is ambiguous. Use a.empty, a.bool(), a.item(), a.any() or a.all().', 'occurred at index D_37')"
     ]
    }
   ],
   "source": [
    "df_training_7 = pd.read_csv('ACT7_competition_training.csv', header=0)\n",
    "(df_training_7.iloc[:, 2:-1]).apply(lambda x: 1 if x != 0 else 0)\n",
    "df_training_7.head()"
   ]
  },
  {
   "cell_type": "code",
   "execution_count": 62,
   "metadata": {},
   "outputs": [
    {
     "ename": "ValueError",
     "evalue": "Unknown label type: 'continuous'",
     "output_type": "error",
     "traceback": [
      "\u001b[1;31m---------------------------------------------------------------------------\u001b[0m",
      "\u001b[1;31mValueError\u001b[0m                                Traceback (most recent call last)",
      "\u001b[1;32m<ipython-input-62-bcb00eb013e4>\u001b[0m in \u001b[0;36m<module>\u001b[1;34m()\u001b[0m\n\u001b[0;32m      1\u001b[0m \u001b[1;32mfrom\u001b[0m \u001b[0msklearn\u001b[0m \u001b[1;32mimport\u001b[0m \u001b[0mlinear_model\u001b[0m\u001b[1;33m\u001b[0m\u001b[0m\n\u001b[0;32m      2\u001b[0m \u001b[0mclf\u001b[0m \u001b[1;33m=\u001b[0m \u001b[0mlinear_model\u001b[0m\u001b[1;33m.\u001b[0m\u001b[0mLogisticRegression\u001b[0m\u001b[1;33m(\u001b[0m\u001b[1;33m)\u001b[0m\u001b[1;33m\u001b[0m\u001b[0m\n\u001b[1;32m----> 3\u001b[1;33m \u001b[0mclf\u001b[0m\u001b[1;33m.\u001b[0m\u001b[0mfit\u001b[0m\u001b[1;33m(\u001b[0m \u001b[0mdf_training_7\u001b[0m\u001b[1;33m.\u001b[0m\u001b[0miloc\u001b[0m\u001b[1;33m[\u001b[0m\u001b[1;36m0\u001b[0m\u001b[1;33m:\u001b[0m\u001b[1;36m2500\u001b[0m\u001b[1;33m,\u001b[0m \u001b[1;36m2\u001b[0m\u001b[1;33m:\u001b[0m\u001b[1;33m-\u001b[0m\u001b[1;36m1\u001b[0m\u001b[1;33m]\u001b[0m\u001b[1;33m,\u001b[0m \u001b[0mdf_training_7\u001b[0m\u001b[1;33m.\u001b[0m\u001b[0miloc\u001b[0m\u001b[1;33m[\u001b[0m\u001b[1;36m0\u001b[0m\u001b[1;33m:\u001b[0m\u001b[1;36m2500\u001b[0m\u001b[1;33m,\u001b[0m \u001b[1;36m1\u001b[0m\u001b[1;33m]\u001b[0m\u001b[1;33m)\u001b[0m\u001b[1;33m\u001b[0m\u001b[0m\n\u001b[0m",
      "\u001b[1;32m~\\Anaconda3\\lib\\site-packages\\sklearn\\linear_model\\logistic.py\u001b[0m in \u001b[0;36mfit\u001b[1;34m(self, X, y, sample_weight)\u001b[0m\n\u001b[0;32m   1215\u001b[0m         X, y = check_X_y(X, y, accept_sparse='csr', dtype=_dtype,\n\u001b[0;32m   1216\u001b[0m                          order=\"C\")\n\u001b[1;32m-> 1217\u001b[1;33m         \u001b[0mcheck_classification_targets\u001b[0m\u001b[1;33m(\u001b[0m\u001b[0my\u001b[0m\u001b[1;33m)\u001b[0m\u001b[1;33m\u001b[0m\u001b[0m\n\u001b[0m\u001b[0;32m   1218\u001b[0m         \u001b[0mself\u001b[0m\u001b[1;33m.\u001b[0m\u001b[0mclasses_\u001b[0m \u001b[1;33m=\u001b[0m \u001b[0mnp\u001b[0m\u001b[1;33m.\u001b[0m\u001b[0munique\u001b[0m\u001b[1;33m(\u001b[0m\u001b[0my\u001b[0m\u001b[1;33m)\u001b[0m\u001b[1;33m\u001b[0m\u001b[0m\n\u001b[0;32m   1219\u001b[0m         \u001b[0mn_samples\u001b[0m\u001b[1;33m,\u001b[0m \u001b[0mn_features\u001b[0m \u001b[1;33m=\u001b[0m \u001b[0mX\u001b[0m\u001b[1;33m.\u001b[0m\u001b[0mshape\u001b[0m\u001b[1;33m\u001b[0m\u001b[0m\n",
      "\u001b[1;32m~\\Anaconda3\\lib\\site-packages\\sklearn\\utils\\multiclass.py\u001b[0m in \u001b[0;36mcheck_classification_targets\u001b[1;34m(y)\u001b[0m\n\u001b[0;32m    170\u001b[0m     if y_type not in ['binary', 'multiclass', 'multiclass-multioutput',\n\u001b[0;32m    171\u001b[0m                       'multilabel-indicator', 'multilabel-sequences']:\n\u001b[1;32m--> 172\u001b[1;33m         \u001b[1;32mraise\u001b[0m \u001b[0mValueError\u001b[0m\u001b[1;33m(\u001b[0m\u001b[1;34m\"Unknown label type: %r\"\u001b[0m \u001b[1;33m%\u001b[0m \u001b[0my_type\u001b[0m\u001b[1;33m)\u001b[0m\u001b[1;33m\u001b[0m\u001b[0m\n\u001b[0m\u001b[0;32m    173\u001b[0m \u001b[1;33m\u001b[0m\u001b[0m\n\u001b[0;32m    174\u001b[0m \u001b[1;33m\u001b[0m\u001b[0m\n",
      "\u001b[1;31mValueError\u001b[0m: Unknown label type: 'continuous'"
     ]
    }
   ],
   "source": [
    "from sklearn import linear_model\n",
    "clf = linear_model.LogisticRegression()\n",
    "clf.fit( df_training_7.iloc[0:2500, 2:-1], df_training_7.iloc[0:2500, 1]) "
   ]
  },
  {
   "cell_type": "code",
   "execution_count": null,
   "metadata": {
    "collapsed": true
   },
   "outputs": [],
   "source": [
    "df_training_6 = pd.read_csv('ACT6_competition_training.csv', header=0)\n",
    "count_non_zero_thrucolumn_6 = np.array(df_training_6.iloc[:, 2: -1])\n",
    "stack_6 = np.count_nonzero(count_non_zero_thrucolumn_6, axis=0)\n",
    "name_effective_descriptors_6 = list(filter(lambda x: x[1] != 0, list(zip(list((df_training_6.iloc[:, 2:-1]).columns.values), stack_6))))"
   ]
  },
  {
   "cell_type": "code",
   "execution_count": 46,
   "metadata": {
    "collapsed": true
   },
   "outputs": [],
   "source": [
    "df_training_5 = pd.read_csv('ACT5_competition_training.csv', header=0)\n",
    "count_non_zero_thrucolumn_5 = np.array(df_training_5.iloc[:, 2: -1])\n",
    "stack_5 = np.count_nonzero(count_non_zero_thrucolumn_5, axis=0)\n",
    "name_effective_descriptors_5 = list(filter(lambda x: x[1] != 0, list(zip(list((df_training_5.iloc[:, 2:-1]).columns.values), stack_5))))"
   ]
  },
  {
   "cell_type": "code",
   "execution_count": 47,
   "metadata": {
    "collapsed": true
   },
   "outputs": [],
   "source": [
    "df_training_4 = pd.read_csv('ACT4_competition_training.csv', header=0)\n",
    "count_non_zero_thrucolumn_4 = np.array(df_training_4.iloc[:, 2: -1])\n",
    "stack_4 = np.count_nonzero(count_non_zero_thrucolumn_4, axis=0)\n",
    "name_effective_descriptors_4 = list(filter(lambda x: x[1] != 0, list(zip(list((df_training_4.iloc[:, 2:-1]).columns.values), stack_4))))"
   ]
  },
  {
   "cell_type": "code",
   "execution_count": 48,
   "metadata": {
    "collapsed": true
   },
   "outputs": [],
   "source": [
    "df_training_3 = pd.read_csv('ACT3_competition_training.csv', header=0)\n",
    "count_non_zero_thrucolumn_3 = np.array(df_training_3.iloc[:, 2: -1])\n",
    "stack_3 = np.count_nonzero(count_non_zero_thrucolumn_3, axis=0)\n",
    "name_effective_descriptors_3 = list(filter(lambda x: x[1] != 0, list(zip(list((df_training_3.iloc[:, 2:-1]).columns.values), stack_3))))"
   ]
  },
  {
   "cell_type": "code",
   "execution_count": 49,
   "metadata": {
    "collapsed": true
   },
   "outputs": [],
   "source": [
    "df_training_2 = pd.read_csv('ACT2_competition_training.csv', header=0)\n",
    "count_non_zero_thrucolumn_2 = np.array(df_training_2.iloc[:, 2: -1])\n",
    "stack_2 = np.count_nonzero(count_non_zero_thrucolumn_2, axis=0)\n",
    "name_effective_descriptors_2 = list(filter(lambda x: x[1] != 0, list(zip(list((df_training_2.iloc[:, 2:-1]).columns.values), stack_2))))"
   ]
  },
  {
   "cell_type": "code",
   "execution_count": 58,
   "metadata": {},
   "outputs": [
    {
     "ename": "MemoryError",
     "evalue": "",
     "output_type": "error",
     "traceback": [
      "\u001b[1;31m---------------------------------------------------------------------------\u001b[0m",
      "\u001b[1;31mMemoryError\u001b[0m                               Traceback (most recent call last)",
      "\u001b[1;32m<ipython-input-58-4aeb7dc18525>\u001b[0m in \u001b[0;36m<module>\u001b[1;34m()\u001b[0m\n\u001b[0;32m      1\u001b[0m \u001b[0mdf_training_1\u001b[0m \u001b[1;33m=\u001b[0m \u001b[0mpd\u001b[0m\u001b[1;33m.\u001b[0m\u001b[0mread_csv\u001b[0m\u001b[1;33m(\u001b[0m\u001b[1;34m'ACT1_competition_training.csv'\u001b[0m\u001b[1;33m,\u001b[0m \u001b[0mheader\u001b[0m\u001b[1;33m=\u001b[0m\u001b[1;36m0\u001b[0m\u001b[1;33m)\u001b[0m\u001b[1;33m\u001b[0m\u001b[0m\n\u001b[1;32m----> 2\u001b[1;33m \u001b[0mcount_non_zero_thrucolumn_1\u001b[0m \u001b[1;33m=\u001b[0m \u001b[0mnp\u001b[0m\u001b[1;33m.\u001b[0m\u001b[0marray\u001b[0m\u001b[1;33m(\u001b[0m\u001b[0mdf_training_1\u001b[0m\u001b[1;33m.\u001b[0m\u001b[0miloc\u001b[0m\u001b[1;33m[\u001b[0m\u001b[1;33m:\u001b[0m\u001b[1;33m,\u001b[0m \u001b[1;36m2\u001b[0m\u001b[1;33m:\u001b[0m \u001b[1;33m-\u001b[0m\u001b[1;36m1\u001b[0m\u001b[1;33m]\u001b[0m\u001b[1;33m)\u001b[0m\u001b[1;33m\u001b[0m\u001b[0m\n\u001b[0m\u001b[0;32m      3\u001b[0m \u001b[0mstack_1\u001b[0m \u001b[1;33m=\u001b[0m \u001b[0mnp\u001b[0m\u001b[1;33m.\u001b[0m\u001b[0mcount_nonzero\u001b[0m\u001b[1;33m(\u001b[0m\u001b[0mcount_non_zero_thrucolumn_1\u001b[0m\u001b[1;33m,\u001b[0m \u001b[0maxis\u001b[0m\u001b[1;33m=\u001b[0m\u001b[1;36m0\u001b[0m\u001b[1;33m)\u001b[0m\u001b[1;33m\u001b[0m\u001b[0m\n\u001b[0;32m      4\u001b[0m \u001b[0mname_effective_descriptors_1\u001b[0m \u001b[1;33m=\u001b[0m \u001b[0mlist\u001b[0m\u001b[1;33m(\u001b[0m\u001b[0mfilter\u001b[0m\u001b[1;33m(\u001b[0m\u001b[1;32mlambda\u001b[0m \u001b[0mx\u001b[0m\u001b[1;33m:\u001b[0m \u001b[0mx\u001b[0m\u001b[1;33m[\u001b[0m\u001b[1;36m1\u001b[0m\u001b[1;33m]\u001b[0m \u001b[1;33m!=\u001b[0m \u001b[1;36m0\u001b[0m\u001b[1;33m,\u001b[0m \u001b[0mlist\u001b[0m\u001b[1;33m(\u001b[0m\u001b[0mzip\u001b[0m\u001b[1;33m(\u001b[0m\u001b[0mlist\u001b[0m\u001b[1;33m(\u001b[0m\u001b[1;33m(\u001b[0m\u001b[0mdf_training_1\u001b[0m\u001b[1;33m.\u001b[0m\u001b[0miloc\u001b[0m\u001b[1;33m[\u001b[0m\u001b[1;33m:\u001b[0m\u001b[1;33m,\u001b[0m \u001b[1;36m2\u001b[0m\u001b[1;33m:\u001b[0m\u001b[1;33m-\u001b[0m\u001b[1;36m1\u001b[0m\u001b[1;33m]\u001b[0m\u001b[1;33m)\u001b[0m\u001b[1;33m.\u001b[0m\u001b[0mcolumns\u001b[0m\u001b[1;33m.\u001b[0m\u001b[0mvalues\u001b[0m\u001b[1;33m)\u001b[0m\u001b[1;33m,\u001b[0m \u001b[0mstack_1\u001b[0m\u001b[1;33m)\u001b[0m\u001b[1;33m)\u001b[0m\u001b[1;33m)\u001b[0m\u001b[1;33m)\u001b[0m\u001b[1;33m\u001b[0m\u001b[0m\n",
      "\u001b[1;31mMemoryError\u001b[0m: "
     ]
    }
   ],
   "source": [
    "df_training_1 = pd.read_csv('ACT1_competition_training.csv', header=0)\n",
    "count_non_zero_thrucolumn_1 = np.array(df_training_1.iloc[:, 2: -1])\n",
    "stack_1 = np.count_nonzero(count_non_zero_thrucolumn_1, axis=0)\n",
    "name_effective_descriptors_1 = list(filter(lambda x: x[1] != 0, list(zip(list((df_training_1.iloc[:, 2:-1]).columns.values), stack_1))))"
   ]
  },
  {
   "cell_type": "code",
   "execution_count": 54,
   "metadata": {
    "collapsed": true
   },
   "outputs": [],
   "source": [
    "df_training_8 = pd.read_csv('ACT8_competition_training.csv', header=0)\n",
    "count_non_zero_thrucolumn_8 = np.array(df_training_8.iloc[:, 2: -1])\n",
    "stack_8 = np.count_nonzero(count_non_zero_thrucolumn_8, axis=0)\n",
    "name_effective_descriptors_8 = list(filter(lambda x: x[1] != 0, list(zip(list((df_training_8.iloc[:, 2:-1]).columns.values), stack_8))))"
   ]
  },
  {
   "cell_type": "code",
   "execution_count": null,
   "metadata": {
    "collapsed": true
   },
   "outputs": [],
   "source": [
    "df_training_9 = pd.read_csv('ACT9_competition_training.csv', header=0)\n",
    "count_non_zero_thrucolumn_9 = np.array(df_training_9.iloc[:, 2: -1])\n",
    "stack_9 = np.count_nonzero(count_non_zero_thrucolumn_9, axis=0)\n",
    "name_effective_descriptors_9 = list(filter(lambda x: x[1] != 0, list(zip(list((df_training_9.iloc[:, 2:-1]).columns.values), stack_9))))"
   ]
  },
  {
   "cell_type": "code",
   "execution_count": 51,
   "metadata": {
    "collapsed": true
   },
   "outputs": [],
   "source": [
    "df_training_10 = pd.read_csv('ACT10_competition_training.csv', header=0)\n",
    "count_non_zero_thrucolumn_10 = np.array(df_training_10.iloc[:, 2: -1])\n",
    "stack_10 = np.count_nonzero(count_non_zero_thrucolumn_10, axis=0)\n",
    "name_effective_descriptors_10 = list(filter(lambda x: x[1] != 0, list(zip(list((df_training_10.iloc[:, 2:-1]).columns.values), stack_10))))"
   ]
  },
  {
   "cell_type": "code",
   "execution_count": 56,
   "metadata": {
    "collapsed": true
   },
   "outputs": [],
   "source": [
    "df_training_11 = pd.read_csv('ACT11_competition_training.csv', header=0)\n",
    "count_non_zero_thrucolumn_11 = np.array(df_training_11.iloc[:, 2: -1])\n",
    "stack_11 = np.count_nonzero(count_non_zero_thrucolumn_11, axis=0)\n",
    "name_effective_descriptors_11 = list(filter(lambda x: x[1] != 0, list(zip(list((df_training_11.iloc[:, 2:-1]).columns.values), stack_11))))"
   ]
  },
  {
   "cell_type": "code",
   "execution_count": 53,
   "metadata": {
    "collapsed": true
   },
   "outputs": [],
   "source": [
    "df_training_12 = pd.read_csv('ACT12_competition_training.csv', header=0)\n",
    "count_non_zero_thrucolumn_12 = np.array(df_training_12.iloc[:, 2: -1])\n",
    "stack_12 = np.count_nonzero(count_non_zero_thrucolumn_12, axis=0)\n",
    "name_effective_descriptors_12 = list(filter(lambda x: x[1] != 0, list(zip(list((df_training_12.iloc[:, 2:-1]).columns.values), stack_12))))"
   ]
  },
  {
   "cell_type": "code",
   "execution_count": 55,
   "metadata": {
    "collapsed": true
   },
   "outputs": [],
   "source": [
    "df_training_13 = pd.read_csv('ACT13_competition_training.csv', header=0)\n",
    "count_non_zero_thrucolumn_13 = np.array(df_training_13.iloc[:, 2: -1])\n",
    "stack_13 = np.count_nonzero(count_non_zero_thrucolumn_13, axis=0)\n",
    "name_effective_descriptors_13 = list(filter(lambda x: x[1] != 0, list(zip(list((df_training_13.iloc[:, 2:-1]).columns.values), stack_13))))"
   ]
  },
  {
   "cell_type": "code",
   "execution_count": 57,
   "metadata": {
    "collapsed": true
   },
   "outputs": [],
   "source": [
    "df_training_15 = pd.read_csv('ACT15_competition_training.csv', header=0)\n",
    "count_non_zero_thrucolumn_15 = np.array(df_training_15.iloc[:, 2: -1])\n",
    "stack_15 = np.count_nonzero(count_non_zero_thrucolumn_15, axis=0)\n",
    "name_effective_descriptors_15 = list(filter(lambda x: x[1] != 0, list(zip(list((df_training_15.iloc[:, 2:-1]).columns.values), stack_15))))"
   ]
  },
  {
   "cell_type": "code",
   "execution_count": 38,
   "metadata": {
    "collapsed": true
   },
   "outputs": [],
   "source": [
    "s1 = set([x[0] for x in name_effective_descriptors_14])\n",
    "s2 = set([x[0] for x in name_effective_descriptors_7])"
   ]
  },
  {
   "cell_type": "code",
   "execution_count": 43,
   "metadata": {},
   "outputs": [
    {
     "data": {
      "text/plain": [
       "4029"
      ]
     },
     "execution_count": 43,
     "metadata": {},
     "output_type": "execute_result"
    }
   ],
   "source": [
    "len(s1.intersection(s2))"
   ]
  },
  {
   "cell_type": "code",
   "execution_count": 8,
   "metadata": {
    "collapsed": true
   },
   "outputs": [],
   "source": [
    "descriptors = []\n",
    "with open('common_descriptors_cross_trainingsets.txt') as file:\n",
    "    for line in file:\n",
    "        descriptors.append(line[0:-1])\n",
    "file.close()\n",
    "# type(descriptors[10])"
   ]
  },
  {
   "cell_type": "code",
   "execution_count": 6,
   "metadata": {
    "collapsed": true
   },
   "outputs": [],
   "source": [
    "df_training_13 = pd.read_csv('ACT7_competition_training.csv', header=0)\n"
   ]
  },
  {
   "cell_type": "code",
   "execution_count": 4,
   "metadata": {
    "collapsed": true
   },
   "outputs": [],
   "source": [
    "df_test_13 = pd.read_csv('ACT13_competition_test.csv', header=0)"
   ]
  },
  {
   "cell_type": "code",
   "execution_count": 9,
   "metadata": {},
   "outputs": [],
   "source": [
    "import numpy as np\n",
    "row, col = df_training_13.shape\n",
    "sli = int(np.ceil(row *1/ 2))\n",
    "x_train = (df_training_13[descriptors]).iloc[0:sli, 0 : -2]\n",
    "y_train = (df_training_13[descriptors]).iloc[0:sli, -1]\n",
    "x_test = (df_training_13[descriptors]).iloc[sli+1: row-1, 0 : -2]\n",
    "y_test = (df_training_13[descriptors]).iloc[sli+1: row-1, -1]"
   ]
  },
  {
   "cell_type": "code",
   "execution_count": 56,
   "metadata": {},
   "outputs": [
    {
     "name": "stderr",
     "output_type": "stream",
     "text": [
      "C:\\Users\\Admin\\Anaconda3\\lib\\site-packages\\scipy\\stats\\morestats.py:1326: UserWarning: p-value may not be accurate for N > 5000.\n",
      "  warnings.warn(\"p-value may not be accurate for N > 5000.\")\n"
     ]
    },
    {
     "data": {
      "text/plain": [
       "(0.2727985382080078, 0.0)"
      ]
     },
     "execution_count": 56,
     "metadata": {},
     "output_type": "execute_result"
    }
   ],
   "source": [
    "col_1140 = df_training_13.iloc[:, 1000]\n",
    "from scipy import stats\n",
    "#check normanity\n",
    "stats.shapiro(col_1140)"
   ]
  },
  {
   "cell_type": "code",
   "execution_count": null,
   "metadata": {},
   "outputs": [],
   "source": [
    "from sklearn.decomposition import PCA, KernelPCA\n",
    "kpca = KernelPCA(kernel=\"rbf\", fit_inverse_transform=True, gamma=10)\n",
    "X_kpca = kpca.fit_transform(x_train)\n",
    "X_back = kpca.inverse_transform(X_kpca)\n",
    "len(X_back)"
   ]
  },
  {
   "cell_type": "code",
   "execution_count": null,
   "metadata": {},
   "outputs": [],
   "source": [
    "\n",
    "from sklearn.neural_network import MLPClassifer\n",
    "clf = MLPRClassifer(solver='lbfgs', alpha=1e-5, hidden_layer_sizes =(10, 2), random_state=1)\n",
    "clf.fit(x_train, y_train)\n",
    "clf.score(x_test, y_test)"
   ]
  },
  {
   "cell_type": "code",
   "execution_count": 11,
   "metadata": {},
   "outputs": [
    {
     "ename": "ValueError",
     "evalue": "y_true and y_pred have different number of output (2616!=1)",
     "output_type": "error",
     "traceback": [
      "\u001b[1;31m---------------------------------------------------------------------------\u001b[0m",
      "\u001b[1;31mValueError\u001b[0m                                Traceback (most recent call last)",
      "\u001b[1;32m<ipython-input-11-c377a7444ab4>\u001b[0m in \u001b[0;36m<module>\u001b[1;34m()\u001b[0m\n\u001b[0;32m      2\u001b[0m \u001b[0mclf\u001b[0m \u001b[1;33m=\u001b[0m \u001b[0mlinear_model\u001b[0m\u001b[1;33m.\u001b[0m\u001b[0mLasso\u001b[0m\u001b[1;33m(\u001b[0m\u001b[0malpha\u001b[0m\u001b[1;33m=\u001b[0m\u001b[1;36m4\u001b[0m\u001b[1;33m)\u001b[0m\u001b[1;33m\u001b[0m\u001b[0m\n\u001b[0;32m      3\u001b[0m \u001b[0mclf\u001b[0m\u001b[1;33m.\u001b[0m\u001b[0mfit\u001b[0m\u001b[1;33m(\u001b[0m \u001b[0mx_train\u001b[0m\u001b[1;33m,\u001b[0m \u001b[0my_train\u001b[0m\u001b[1;33m)\u001b[0m\u001b[1;33m\u001b[0m\u001b[0m\n\u001b[1;32m----> 4\u001b[1;33m \u001b[0mclf\u001b[0m\u001b[1;33m.\u001b[0m\u001b[0mscore\u001b[0m\u001b[1;33m(\u001b[0m\u001b[0mx_test\u001b[0m\u001b[1;33m,\u001b[0m \u001b[0mx_test\u001b[0m\u001b[1;33m)\u001b[0m\u001b[1;33m\u001b[0m\u001b[0m\n\u001b[0m",
      "\u001b[1;32m~\\Anaconda3\\lib\\site-packages\\sklearn\\base.py\u001b[0m in \u001b[0;36mscore\u001b[1;34m(self, X, y, sample_weight)\u001b[0m\n\u001b[0;32m    385\u001b[0m         \u001b[1;32mfrom\u001b[0m \u001b[1;33m.\u001b[0m\u001b[0mmetrics\u001b[0m \u001b[1;32mimport\u001b[0m \u001b[0mr2_score\u001b[0m\u001b[1;33m\u001b[0m\u001b[0m\n\u001b[0;32m    386\u001b[0m         return r2_score(y, self.predict(X), sample_weight=sample_weight,\n\u001b[1;32m--> 387\u001b[1;33m                         multioutput='variance_weighted')\n\u001b[0m\u001b[0;32m    388\u001b[0m \u001b[1;33m\u001b[0m\u001b[0m\n\u001b[0;32m    389\u001b[0m \u001b[1;33m\u001b[0m\u001b[0m\n",
      "\u001b[1;32m~\\Anaconda3\\lib\\site-packages\\sklearn\\metrics\\regression.py\u001b[0m in \u001b[0;36mr2_score\u001b[1;34m(y_true, y_pred, sample_weight, multioutput)\u001b[0m\n\u001b[0;32m    528\u001b[0m     \"\"\"\n\u001b[0;32m    529\u001b[0m     y_type, y_true, y_pred, multioutput = _check_reg_targets(\n\u001b[1;32m--> 530\u001b[1;33m         y_true, y_pred, multioutput)\n\u001b[0m\u001b[0;32m    531\u001b[0m \u001b[1;33m\u001b[0m\u001b[0m\n\u001b[0;32m    532\u001b[0m     \u001b[1;32mif\u001b[0m \u001b[0msample_weight\u001b[0m \u001b[1;32mis\u001b[0m \u001b[1;32mnot\u001b[0m \u001b[1;32mNone\u001b[0m\u001b[1;33m:\u001b[0m\u001b[1;33m\u001b[0m\u001b[0m\n",
      "\u001b[1;32m~\\Anaconda3\\lib\\site-packages\\sklearn\\metrics\\regression.py\u001b[0m in \u001b[0;36m_check_reg_targets\u001b[1;34m(y_true, y_pred, multioutput)\u001b[0m\n\u001b[0;32m     85\u001b[0m     \u001b[1;32mif\u001b[0m \u001b[0my_true\u001b[0m\u001b[1;33m.\u001b[0m\u001b[0mshape\u001b[0m\u001b[1;33m[\u001b[0m\u001b[1;36m1\u001b[0m\u001b[1;33m]\u001b[0m \u001b[1;33m!=\u001b[0m \u001b[0my_pred\u001b[0m\u001b[1;33m.\u001b[0m\u001b[0mshape\u001b[0m\u001b[1;33m[\u001b[0m\u001b[1;36m1\u001b[0m\u001b[1;33m]\u001b[0m\u001b[1;33m:\u001b[0m\u001b[1;33m\u001b[0m\u001b[0m\n\u001b[0;32m     86\u001b[0m         raise ValueError(\"y_true and y_pred have different number of output \"\n\u001b[1;32m---> 87\u001b[1;33m                          \"({0}!={1})\".format(y_true.shape[1], y_pred.shape[1]))\n\u001b[0m\u001b[0;32m     88\u001b[0m \u001b[1;33m\u001b[0m\u001b[0m\n\u001b[0;32m     89\u001b[0m     \u001b[0mn_outputs\u001b[0m \u001b[1;33m=\u001b[0m \u001b[0my_true\u001b[0m\u001b[1;33m.\u001b[0m\u001b[0mshape\u001b[0m\u001b[1;33m[\u001b[0m\u001b[1;36m1\u001b[0m\u001b[1;33m]\u001b[0m\u001b[1;33m\u001b[0m\u001b[0m\n",
      "\u001b[1;31mValueError\u001b[0m: y_true and y_pred have different number of output (2616!=1)"
     ]
    }
   ],
   "source": [
    "from sklearn import linear_model\n",
    "clf = linear_model.Lasso(alpha=4)\n",
    "clf.fit( x_train, y_train) \n",
    "clf.score(x_test, x_test)"
   ]
  },
  {
   "cell_type": "code",
   "execution_count": null,
   "metadata": {
    "collapsed": true
   },
   "outputs": [],
   "source": []
  }
 ],
 "metadata": {
  "kernelspec": {
   "display_name": "Python [default]",
   "language": "python",
   "name": "python3"
  },
  "language_info": {
   "codemirror_mode": {
    "name": "ipython",
    "version": 3
   },
   "file_extension": ".py",
   "mimetype": "text/x-python",
   "name": "python",
   "nbconvert_exporter": "python",
   "pygments_lexer": "ipython3",
   "version": "3.6.3"
  },
  "latex_envs": {
   "LaTeX_envs_menu_present": true,
   "autocomplete": true,
   "bibliofile": "biblio.bib",
   "cite_by": "apalike",
   "current_citInitial": 1,
   "eqLabelWithNumbers": true,
   "eqNumInitial": 1,
   "hotkeys": {
    "equation": "Ctrl-E",
    "itemize": "Ctrl-I"
   },
   "labels_anchors": false,
   "latex_user_defs": false,
   "report_style_numbering": false,
   "user_envs_cfg": false
  },
  "notify_time": "5",
  "varInspector": {
   "cols": {
    "lenName": 16,
    "lenType": 16,
    "lenVar": 40
   },
   "kernels_config": {
    "python": {
     "delete_cmd_postfix": "",
     "delete_cmd_prefix": "del ",
     "library": "var_list.py",
     "varRefreshCmd": "print(var_dic_list())"
    },
    "r": {
     "delete_cmd_postfix": ") ",
     "delete_cmd_prefix": "rm(",
     "library": "var_list.r",
     "varRefreshCmd": "cat(var_dic_list()) "
    }
   },
   "types_to_exclude": [
    "module",
    "function",
    "builtin_function_or_method",
    "instance",
    "_Feature"
   ],
   "window_display": false
  }
 },
 "nbformat": 4,
 "nbformat_minor": 2
}
